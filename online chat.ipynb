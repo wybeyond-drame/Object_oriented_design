{
 "cells": [
  {
   "cell_type": "code",
   "execution_count": 1,
   "metadata": {},
   "outputs": [],
   "source": [
    "from enum import Enum"
   ]
  },
  {
   "cell_type": "code",
   "execution_count": null,
   "metadata": {},
   "outputs": [],
   "source": [
    "class RequestStatus(Enum):\n",
    "\n",
    "    UNREAD = 0\n",
    "    READ = 1\n",
    "    ACCEPTED = 2\n",
    "    REJECTED = 3\n",
    "class user:\n",
    "    def __init__(self,name,age,sex,userid):\n",
    "        self.name = name\n",
    "        self.age =age\n",
    "        self.sex = sex\n",
    "        self.userid = userid\n",
    "    def message_user(self,user_id,message):pass\n",
    "    def message_group(self,group_id,message):pass\n",
    "    def send_friend_request(self, friend_id):  pass\n",
    "    def receive_friend_request(self, friend_id):  pass\n",
    "    def approve_friend_request(self, friend_id):  pass\n",
    "    def reject_friend_request(self, friend_id):  pass\n",
    "    def remove_friend(self,friend_id): pass\n",
    "\n",
    "class userservice:\n",
    "    def __init__(self):\n",
    "        self.users_by_id = {}\n",
    "    def add_user(self, user_id, name, pass_hash):  # ...\n",
    "    def remove_user(self, user_id):  # ...\n",
    "    def add_friend_request(self, from_user_id, to_user_id):  # ...\n",
    "    def approve_friend_request(self, from_user_id, to_user_id):  # ...\n",
    "    def reject_friend_request(self, from_user_id, to_user_id): \n",
    "\n",
    "class Chat(metaclass=ABCMeta):\n",
    "    def __init__(self, chat_id):\n",
    "        self.chat_id = chat_id\n",
    "        self.users = []\n",
    "        self.messages = []\n",
    "\n",
    "class privatechat(chat):\n",
    "    def __init__(self,first_user,second_user):\n",
    "        super().__init__(chat_id)\n",
    "        self.users.append(first_user)\n",
    "        self.users.append(second_user)\n",
    "\n",
    "class groupchat(chat):\n",
    "    def __init__(self,max_users):\n",
    "        super().__init__(chat_id)\n",
    "    def add_user(self,user):\n",
    "        pass\n",
    "    def remove_user(self,user):\n",
    "        pass\n",
    "\n",
    "class message:\n",
    "    def __init__(self,message_id,message,timestamp):\n",
    "        self.message_id = message_id\n",
    "        self.message = message\n",
    "        self.timestamp = timestamp\n",
    "    \n",
    "    \n",
    "class addrequest:\n",
    "    def __init__(self,first_user,second_user,request_status,timestamp):\n",
    "        self.first_user = first_user\n",
    "        self.second_user = second_user\n",
    "        self.request_status = request_status\n",
    "        self.timestamp = timestamp\n",
    "    "
   ]
  }
 ],
 "metadata": {
  "kernelspec": {
   "display_name": "Python 3",
   "language": "python",
   "name": "python3"
  },
  "language_info": {
   "codemirror_mode": {
    "name": "ipython",
    "version": 3
   },
   "file_extension": ".py",
   "mimetype": "text/x-python",
   "name": "python",
   "nbconvert_exporter": "python",
   "pygments_lexer": "ipython3",
   "version": "3.7.1"
  }
 },
 "nbformat": 4,
 "nbformat_minor": 2
}
