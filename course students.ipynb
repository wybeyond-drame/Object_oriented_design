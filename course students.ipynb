{
 "cells": [
  {
   "cell_type": "code",
   "execution_count": 81,
   "metadata": {},
   "outputs": [],
   "source": [
    "import collections"
   ]
  },
  {
   "cell_type": "code",
   "execution_count": 141,
   "metadata": {},
   "outputs": [],
   "source": [
    "class course:\n",
    "    course_term = 'Fall'\n",
    "    def __init__(self,name,max_students):\n",
    "        self.name = name\n",
    "        self.max = max_students\n",
    "        self.students =[]\n",
    "        self.size=0\n",
    "        \n",
    "    @classmethod\n",
    "    def get_course_term(cls):\n",
    "        return cls.course_term\n",
    "    \n",
    "    def get_size(self):\n",
    "        return self.size\n",
    "    def add_student(self,student):\n",
    "        if self.size<self.max:\n",
    "            self.students.append(student)\n",
    "            self.size+=1\n",
    "            return True\n",
    "        else:\n",
    "            return False\n",
    "    def delete_student(self,student):\n",
    "        if student in self.students:\n",
    "            self.students.remove(student)\n",
    "            self.size-=1\n",
    "            return True\n",
    "        return False\n",
    "    def get_average_grade(self):\n",
    "        value = 0\n",
    "        for student in self.students:\n",
    "            value+=student.get_grade(self)\n",
    "        return value/self.get_size()\n",
    "class person:\n",
    "    def __init__(self,name,age,sex):\n",
    "        self.name = name\n",
    "        self.age = age\n",
    "        self.sex = sex\n",
    "    def speak(self):\n",
    "        print ('My name is {}, i am {} years old'.format(self.name,self.age))\n",
    "class instructor(person):\n",
    "    def __init__(self,name,age,sex,level):\n",
    "        super().__init__(name,age,sex)\n",
    "        self.level = level\n",
    "        self.courses = []\n",
    "    def open_course(self,course):\n",
    "        self.courses.append(course)\n",
    "    def get_course_list(self):\n",
    "        return self.courses\n",
    "class student(person):\n",
    "    def __init__(self,name,age,sex,campus):\n",
    "        super().__init__(name,age,sex)\n",
    "        self.campus = campus\n",
    "        self.registered_courses = collections.defaultdict(int)\n",
    "    def register(self,course):\n",
    "        if course.add_student(self):\n",
    "            self.registered_courses[course]=0\n",
    "            return True\n",
    "        else:\n",
    "            return False\n",
    "        \n",
    "    def quit(self,course):\n",
    "        if course.delete_student(self):\n",
    "            self.registered_courses.remove(course)\n",
    "        else:\n",
    "            return False\n",
    "    def set_grade(self,course,grade):\n",
    "        self.registered_courses[course]=grade\n",
    "    def get_grade(self,course):\n",
    "        return self.registered_courses[course]\n",
    "    def get_average_grade(self):\n",
    "        return sum(self.registered_courses.values())/len(self.registered_courses)\n",
    "        "
   ]
  },
  {
   "cell_type": "code",
   "execution_count": 136,
   "metadata": {},
   "outputs": [],
   "source": [
    "instructor1 = instructor('Alex',35,'male',5)\n",
    "instructor2 = instructor('Bill', 48,'male',3)\n",
    "student1 = student('alice',23,'female',True)\n",
    "student2 = student('dick',22,'male',False)\n",
    "student3 = student('dkey',17,'male',True)"
   ]
  },
  {
   "cell_type": "code",
   "execution_count": 137,
   "metadata": {},
   "outputs": [],
   "source": [
    "course1 = course('air force theory',2)\n",
    "course2 = course('quantum mechanics',3)\n",
    "course3 = course('materials theory',2)"
   ]
  },
  {
   "cell_type": "code",
   "execution_count": 138,
   "metadata": {},
   "outputs": [],
   "source": [
    "instructor1.open_course(course1)\n",
    "instructor2.open_course(course2)\n",
    "instructor2.open_course(course3)"
   ]
  },
  {
   "cell_type": "code",
   "execution_count": 139,
   "metadata": {},
   "outputs": [],
   "source": [
    "student1.set_grade(course1,96)\n",
    "student2.set_grade(course1,88)"
   ]
  },
  {
   "cell_type": "code",
   "execution_count": 140,
   "metadata": {},
   "outputs": [
    {
     "data": {
      "text/plain": [
       "'Fall'"
      ]
     },
     "execution_count": 140,
     "metadata": {},
     "output_type": "execute_result"
    }
   ],
   "source": [
    "course2.get_course_term()"
   ]
  },
  {
   "cell_type": "code",
   "execution_count": null,
   "metadata": {},
   "outputs": [],
   "source": []
  }
 ],
 "metadata": {
  "kernelspec": {
   "display_name": "Python 3",
   "language": "python",
   "name": "python3"
  },
  "language_info": {
   "codemirror_mode": {
    "name": "ipython",
    "version": 3
   },
   "file_extension": ".py",
   "mimetype": "text/x-python",
   "name": "python",
   "nbconvert_exporter": "python",
   "pygments_lexer": "ipython3",
   "version": "3.7.1"
  }
 },
 "nbformat": 4,
 "nbformat_minor": 2
}
